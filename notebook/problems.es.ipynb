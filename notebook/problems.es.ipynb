{
 "cells": [
  {
   "cell_type": "markdown",
   "id": "a41f3622",
   "metadata": {},
   "source": [
    "# Ejercicios de probabilidad"
   ]
  },
  {
   "cell_type": "markdown",
   "id": "a6bdbd89",
   "metadata": {},
   "source": [
    "## Ejercicio 1 \n",
    "\n",
    "Dos dados se lanzan una vez y se observa el total obtenido. Usa una simulación para encontrar la probabilidad estimada de que la puntuación sea mayor a 7 o un número par. Una simulación es una repetición del mismo experimento multiples veces para observar su comportamiento:\n",
    "\n",
    "- Ejecuta el experimento 1000 veces (lanza 2 dados 1000 veces, y suma el número de ambos dados).\n",
    "- Lleva ua cuenta de los números y las veces que la suma fue mayor a 7 o un número par.\n",
    "- Divide el número del paso 2 entre el número de iteraciones(1000)."
   ]
  },
  {
   "cell_type": "code",
   "execution_count": 1,
   "id": "8939d892",
   "metadata": {},
   "outputs": [
    {
     "name": "stdout",
     "output_type": "stream",
     "text": [
      ": [ 7  7 11  8  6  8  5  9  7  5  3  7  4  6  4  3  6  8  8  5  2  7  3  8\n",
      "  9  9  6  9  6 10  5  4  7 10  6  8  8 11  9  5  4 10  2  5  4 12  5  7\n",
      "  7  8  4 12  4 10  7  9 11  6  6 12  7  5  2  7  5  5 10  9 10  3  8  8\n",
      "  3  3  9  7  6  3 10  9 11  4  7  3  9  4  8  8  9  9  7  7  4  5  7  9\n",
      "  5  6  5  5  3  7 10  6 11  6  9 10  9  5 10  6 12  2  8  8  5  7  9  6\n",
      "  3  6 12  8  7 10  8  6  4 11  9  9 11  8  3 12 11  8  9 11  5  4  3  3\n",
      "  4  8  8  7  8 12  7  5  3  9  9  9  4  9  5  3 12 11 10  8  7  3  6  9\n",
      "  5  5 11  4  9  9  5  9  8  6 10  9  5  5  6  5  6  6  6  5  7  8 10  7\n",
      "  8  7  9  8  5  6  8  9  7  9 10  2  2  8  8  9  2  3  6  5  5 12  6  7\n",
      "  6  5 10  7  8  9 10  6  6  8 10  7  7  7  9  3  4  7  6  9  5  2  7  7\n",
      "  3  6  6  9  3  5  3  7  9  7  3  2  5  8  9  2  8  3  8  8  9  9  6 10\n",
      "  3  6 11  5  9  8  9  7  6  7  7  2 10  7  4 11 11 12  3  5  5  7  5  6\n",
      "  9  6  3  2  9  6  9  8  4  5  7  6  7  8  8  5  7  7  9  6  7  4  7 10\n",
      "  9  8  7 12  9  8 11  8 12  4  4  9  5 10  3 11  8  7  9  5  6  5  8  8\n",
      "  9 10  8  7  6 12  6  9  9  8  9  7  5 10  6 10  6  3  8  7  3 11  7  6\n",
      "  6  9  2  5 10  6  7  4  4  3  6  8  5  7  4  9 11  5  8  3 11 11  3  6\n",
      "  8  6  6  6  6  9  5  3 10  5 11  5  9  7  3  5  6  7 11  7  7  6  6  6\n",
      "  2  3 10  2  6  7 12  8  5  3  6  6  5  6  7 11  9 11 10  8  6  7 10  5\n",
      " 10 12  5  9  6  8  7  3  8  2  5  8  8  8  8  6  6  6  5  8  5 11 10  6\n",
      "  4  5  8  9  5  7  2  4  6  5  6  2 10 12  5  9  5  6  9  8  6  9  6  8\n",
      "  8  8  8  5  3  4  9  4 11  5  6 10  5  6  9  4  5  8 11  5  4  7  4 10\n",
      "  9  8  7  8  8  4  7 11  9 10  5  7  6  6 11 10  5  6 10 10 11  4  6  4\n",
      " 10  8  9  8  5  4 11 12  5  5  5  6  7  7  7 11  9  5 10  8  7  7  7 12\n",
      "  7  6  8  6  8  8  8  6  6 10  5  4  4 11 10  6 10  7  8  4  8  5  3 10\n",
      "  8  4  2 10  6  3  7  7  4  9 11  8  7  8  8  7  8 11  7  6 11  8  5  8\n",
      "  7  7  9 11  8  3 10 10  6  6  8  8 10  5  5  3  7 12  8  7  8  3  3  7\n",
      "  4  5  7  8  9  7  8 10 10  5  7  6  5  8  5  8  7 11  5  5  8  9  4  5\n",
      "  6  6  6 10  5  5  6 11  9 12  4 11  9 11  8  5  2  7  7  9  9  5  7 10\n",
      "  9  8  9  2  9  8  4  8  7  4  8  5  7  8  4 10  3  7 12 11  6  5  6 10\n",
      "  5  4  3 12  3 10  3  8  4  6  9  3  3  8 10  5  4  9  9  8  8  8  8  8\n",
      " 12 10  5  5  5  4  9  5  7  6 10  7  3  2  7  8  5 10  6  5 11 10  8  7\n",
      " 12  7 11 10  4  7  7  8  4  7  8  8  8  8  6  3  3  4  8  7 10  5 10  7\n",
      "  7  9  8 12  7  4  8  4 10 12  5  9  3 10  2  3  5  2  6  9  7  6  7  6\n",
      "  6  9  4  6  5  5  9  2  6  8  8  2  6  8  6 11  7  8  6  6  3  8 10  9\n",
      " 12  3 12  4  6 12  8  6  8  7  7  8  4  5  9 10  7  7  6  5  7 12  5  7\n",
      "  5  8  5  6  7 11 10  4  6  3  7  7  3  6  8 10  7  7  9 10  9 10  7  6\n",
      "  8  9  8  7 12 11  9  6  7  5  4  8  8  3 12  7  3  7 12  2  8  7  5  8\n",
      " 10  8  8  2  8  7  9  9  7  6  9 10  5 12 12 11 11 12  3  2  9  6 12  6\n",
      "  4  6  3  8  7  6  9  9  7  9  7  9  8 10  5  3  7  7  2  5  5  7  7  3\n",
      "  4  9  7  4  6  6 12  6  3  3  5 10  9  6  8  5 11  6  9  6  2  6  6  7\n",
      "  5  7  2  8  6  5 10  6 10  2  8  5  2  2  6  5  9  7  4 11  5 12  3  8\n",
      "  5  6  7  8  7  6  7 11  7 10 10  2 10  5 10  8]\n"
     ]
    }
   ],
   "source": [
    "# TODO\n",
    "#Ejercicio 1\n",
    "import numpy as np\n",
    "\n",
    "# Fijar la semilla para reproducibilidad\n",
    "np.random.seed(123)\n",
    "#Paso 1\n",
    "# Número de simulaciones\n",
    "experimentos = 1000\n",
    "\n",
    "# Simular los lanzamientos de dos dados\n",
    "dado1 = np.random.randint(1, 7, size=experimentos)\n",
    "dado2 = np.random.randint(1, 7, size=experimentos)\n",
    "suma_dados = dado1 + dado2\n",
    "\n",
    "print(f\": {suma_dados}\")"
   ]
  },
  {
   "cell_type": "code",
   "execution_count": 2,
   "id": "4b075565",
   "metadata": {},
   "outputs": [
    {
     "name": "stdout",
     "output_type": "stream",
     "text": [
      "Mayor a o es par: 662\n"
     ]
    }
   ],
   "source": [
    "#Paso 2\n",
    "#La suma es mayor a 7 o es par\n",
    "x = np.sum((suma_dados > 7) | (suma_dados % 2 == 0))\n",
    "print(f\"Mayor a o es par: {x}\")"
   ]
  },
  {
   "cell_type": "code",
   "execution_count": 3,
   "id": "c1c63458",
   "metadata": {},
   "outputs": [
    {
     "name": "stdout",
     "output_type": "stream",
     "text": [
      "Estimada: 0.6620\n"
     ]
    }
   ],
   "source": [
    "# Paso 3\n",
    "# Calcular la probabilidad\n",
    "y = x / experimentos\n",
    "\n",
    "#.4f lo uso para : redondear y mostrar números decimales con 4 cifras\n",
    "print(f\"Estimada: {y:.4f}\")"
   ]
  },
  {
   "cell_type": "markdown",
   "id": "55732bca",
   "metadata": {},
   "source": [
    "## Ejercicio 2\n",
    "\n",
    "Una caja contiene 10 bolas blancas, 20 bolas rojas y 30 bolas verdes. Si tomamos 5 bolas de la caja reemplazándolas (tomando una bola, anotando el color y luego regresandola a la caja). Queremos saber la probabilidad de:\n",
    "\n",
    "1. Tomar 3 blancas y 2 rojas.\n",
    "2. Toas todas del mismo color.\n",
    "\n",
    "Ejecuta el experimento 1000 veces y calcula las probabilidades que mencionadas."
   ]
  },
  {
   "cell_type": "code",
   "execution_count": 4,
   "id": "23244d20",
   "metadata": {},
   "outputs": [
    {
     "name": "stdout",
     "output_type": "stream",
     "text": [
      "{0: 'White', 1: 'White', 2: 'White', 3: 'White', 4: 'White', 5: 'White', 6: 'White', 7: 'White', 8: 'White', 9: 'White', 10: 'Red', 11: 'Red', 12: 'Red', 13: 'Red', 14: 'Red', 15: 'Red', 16: 'Red', 17: 'Red', 18: 'Red', 19: 'Red', 20: 'Red', 21: 'Red', 22: 'Red', 23: 'Red', 24: 'Red', 25: 'Red', 26: 'Red', 27: 'Red', 28: 'Red', 29: 'Red', 30: 'Green', 31: 'Green', 32: 'Green', 33: 'Green', 34: 'Green', 35: 'Green', 36: 'Green', 37: 'Green', 38: 'Green', 39: 'Green', 40: 'Green', 41: 'Green', 42: 'Green', 43: 'Green', 44: 'Green', 45: 'Green', 46: 'Green', 47: 'Green', 48: 'Green', 49: 'Green', 50: 'Green', 51: 'Green', 52: 'Green', 53: 'Green', 54: 'Green', 55: 'Green', 56: 'Green', 57: 'Green', 58: 'Green', 59: 'Green'}\n",
      "Probabilidad de obtener 3 blancas y 2 rojas: 0.0050\n"
     ]
    }
   ],
   "source": [
    "ball_box = {}\n",
    "\n",
    "# Crea la cajas con las bolas\n",
    "for i in range(60):\n",
    "    if i < 10:\n",
    "        ball_box[i] = \"White\"\n",
    "    elif (i > 9) and (i < 30):\n",
    "        ball_box[i] = \"Red\"\n",
    "    else:\n",
    "        ball_box[i] = \"Green\"\n",
    "\n",
    "print(ball_box)\n",
    "            \n",
    "# TODO\n",
    "# Probabilidades de cada color\n",
    "p_blanca = 10 / 60  # Probabilidad de blanca\n",
    "p_roja = 20 / 60  # Probabilidad de roja\n",
    "p_verde = 30 / 60  # Probabilidad de verde\n",
    "\n",
    "# datos\n",
    "num_experimentos = 1000\n",
    "num_extracciones = 5  \n",
    "\n",
    "# Matriz que almacena datos en cada tirada\n",
    "resultados = np.random.choice([\"Blanca\", \"Roja\", \"Verde\"], size=(num_experimentos, num_extracciones), p=[p_blanca, p_roja, p_verde])\n",
    "\n",
    "#Paso 1\n",
    "# Probabilidad de obtener 3 blancas y 2 rojas\n",
    "prob_b = np.sum(resultados == \"Blanca\", axis=1) == 3  #Blancas\n",
    "prob_r = np.sum(resultados == \"Roja\", axis=1) == 2  #Rojas\n",
    "obtener = np.mean(prob_b & prob_r)\n",
    "\n",
    "#.4f lo uso para : redondear y mostrar números decimales con 4 cifras\n",
    "print(f\"Probabilidad de obtener 3 blancas y 2 rojas: {obtener:.4f}\")"
   ]
  },
  {
   "cell_type": "code",
   "execution_count": 6,
   "id": "9a8a622d",
   "metadata": {},
   "outputs": [
    {
     "name": "stdout",
     "output_type": "stream",
     "text": [
      "Probabilidad de que todas sean iguales: 0.0320\n"
     ]
    }
   ],
   "source": [
    "#Paso 2\n",
    "# Probabilidad de que todas sean del mismo color\n",
    "mismo_color = np.mean(np.all(resultados == resultados[:, 0][:, None], axis=1))\n",
    "#.4f lo uso para : redondear y mostrar números decimales con 4 cifras\n",
    "print(f\"Probabilidad de que todas sean iguales: {mismo_color:.4f}\")"
   ]
  }
 ],
 "metadata": {
  "kernelspec": {
   "display_name": "Python 3",
   "language": "python",
   "name": "python3"
  },
  "language_info": {
   "codemirror_mode": {
    "name": "ipython",
    "version": 3
   },
   "file_extension": ".py",
   "mimetype": "text/x-python",
   "name": "python",
   "nbconvert_exporter": "python",
   "pygments_lexer": "ipython3",
   "version": "3.11.4"
  }
 },
 "nbformat": 4,
 "nbformat_minor": 5
}
